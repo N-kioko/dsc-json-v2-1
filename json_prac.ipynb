{
 "cells": [
  {
   "cell_type": "code",
   "execution_count": 4,
   "metadata": {},
   "outputs": [],
   "source": [
    "import json\n",
    "import requests\n"
   ]
  },
  {
   "cell_type": "markdown",
   "metadata": {},
   "source": [
    "## Loading json data"
   ]
  },
  {
   "cell_type": "code",
   "execution_count": null,
   "metadata": {},
   "outputs": [],
   "source": [
    "#if the file was stored locally this is how to load \n",
    "# with open('nyc_2001_campaign_finance.json') as f:\n",
    "#      data = json.load(f)\n",
    "# print(type(data))"
   ]
  },
  {
   "cell_type": "code",
   "execution_count": 6,
   "metadata": {},
   "outputs": [
    {
     "name": "stdout",
     "output_type": "stream",
     "text": [
      "<class 'dict'>\n"
     ]
    }
   ],
   "source": [
    "url =\"https://raw.githubusercontent.com/N-kioko/dsc-json-v2-1/refs/heads/master/nyc_2001_campaign_finance.json\"\n",
    "response = requests.get(url)\n",
    "json_data = response.json()\n",
    "print (type(json_data))"
   ]
  },
  {
   "cell_type": "markdown",
   "metadata": {},
   "source": [
    "## Parsing json data"
   ]
  },
  {
   "cell_type": "markdown",
   "metadata": {},
   "source": [
    " We have checked data type and in this case we have a dictionary, ithat case lets check the keys in the dictionary"
   ]
  },
  {
   "cell_type": "code",
   "execution_count": 7,
   "metadata": {},
   "outputs": [
    {
     "data": {
      "text/plain": [
       "dict_keys(['meta', 'data'])"
      ]
     },
     "execution_count": 7,
     "metadata": {},
     "output_type": "execute_result"
    }
   ],
   "source": [
    "json_data.keys()"
   ]
  },
  {
   "cell_type": "code",
   "execution_count": 15,
   "metadata": {},
   "outputs": [
    {
     "name": "stdout",
     "output_type": "stream",
     "text": [
      "<class 'dict'>\n",
      "<class 'list'>\n",
      "----------------------------------------------------------------\n",
      "<class 'dict'>\n",
      "<class 'list'>\n"
     ]
    }
   ],
   "source": [
    "#check the type of data in meta\n",
    "print (type(json_data['meta']))\n",
    "#check the data type in data\n",
    "print (type(json_data['data']))\n",
    "\n",
    "print('----------------------------------------------------------------')\n",
    "#use loop to check the type of data under the keys\n",
    "for i in json_data.values():\n",
    "    print (type(i))\n"
   ]
  },
  {
   "cell_type": "code",
   "execution_count": 16,
   "metadata": {},
   "outputs": [
    {
     "data": {
      "text/plain": [
       "dict_keys(['view'])"
      ]
     },
     "execution_count": 16,
     "metadata": {},
     "output_type": "execute_result"
    }
   ],
   "source": [
    "#lets chek the keys under meta\n",
    "json_data['meta'].keys() "
   ]
  },
  {
   "cell_type": "code",
   "execution_count": 30,
   "metadata": {},
   "outputs": [
    {
     "data": {
      "text/plain": [
       "dict_keys(['id', 'name', 'attribution', 'averageRating', 'category', 'createdAt', 'description', 'displayType', 'downloadCount', 'hideFromCatalog', 'hideFromDataJson', 'indexUpdatedAt', 'newBackend', 'numberOfComments', 'oid', 'provenance', 'publicationAppendEnabled', 'publicationDate', 'publicationGroup', 'publicationStage', 'rowClass', 'rowsUpdatedAt', 'rowsUpdatedBy', 'tableId', 'totalTimesRated', 'viewCount', 'viewLastModified', 'viewType', 'columns', 'grants', 'metadata', 'owner', 'query', 'rights', 'tableAuthor', 'tags', 'flags'])"
      ]
     },
     "execution_count": 30,
     "metadata": {},
     "output_type": "execute_result"
    }
   ],
   "source": [
    "#lets check the keys under view\n",
    "json_data['meta']['view'].keys()\n"
   ]
  },
  {
   "cell_type": "code",
   "execution_count": 42,
   "metadata": {},
   "outputs": [
    {
     "data": {
      "text/plain": [
       "[1,\n",
       " 'E3E9CC9F-7443-43F6-94AF-B5A0F802DBA1',\n",
       " 1,\n",
       " 1315925633,\n",
       " '392904',\n",
       " 1315925633,\n",
       " '392904',\n",
       " '{\\n  \"invalidCells\" : {\\n    \"1519001\" : \"TOTALPAY\",\\n    \"1518998\" : \"PRIMARYPAY\",\\n    \"1519000\" : \"RUNOFFPAY\",\\n    \"1518999\" : \"GENERALPAY\",\\n    \"1518994\" : \"OFFICECD\",\\n    \"1518996\" : \"OFFICEDIST\",\\n    \"1518991\" : \"ELECTION\"\\n  }\\n}',\n",
       " None,\n",
       " 'CANDID',\n",
       " 'CANDNAME',\n",
       " None,\n",
       " 'OFFICEBORO',\n",
       " None,\n",
       " 'CANCLASS',\n",
       " None,\n",
       " None,\n",
       " None,\n",
       " None]"
      ]
     },
     "execution_count": 42,
     "metadata": {},
     "output_type": "execute_result"
    }
   ],
   "source": [
    "# #lets check the data types under the list in json_data['data']\n",
    "# for i in json_data['data']:\n",
    "#     print (type(i))\n",
    "json_data['data'][0]\n"
   ]
  }
 ],
 "metadata": {
  "kernelspec": {
   "display_name": "learn-env",
   "language": "python",
   "name": "python3"
  },
  "language_info": {
   "codemirror_mode": {
    "name": "ipython",
    "version": 3
   },
   "file_extension": ".py",
   "mimetype": "text/x-python",
   "name": "python",
   "nbconvert_exporter": "python",
   "pygments_lexer": "ipython3",
   "version": "3.8.5"
  }
 },
 "nbformat": 4,
 "nbformat_minor": 2
}
